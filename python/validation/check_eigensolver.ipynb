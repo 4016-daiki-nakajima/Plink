{
 "cells": [
  {
   "cell_type": "markdown",
   "metadata": {},
   "source": [
    "### Use Scipy to recompute the eigenvalues for a validation"
   ]
  },
  {
   "cell_type": "code",
   "execution_count": 16,
   "metadata": {},
   "outputs": [
    {
     "name": "stdout",
     "output_type": "stream",
     "text": [
      "\n",
      "Processing Object0...\n",
      "Matrix dimensions: K (19065, 19065), M (19065, 19065)\n",
      "Number of non-zero elements: K 672651, M 19065\n",
      "\n",
      "First 10 eigenvalues:\n",
      "[-3.31763632e-03 -1.99293413e-03 -3.47177365e-04  1.13931450e-03\n",
      "  2.18135117e-03  4.20063208e-03  7.52028632e+09  7.56278019e+09\n",
      "  2.00484321e+10  3.74493073e+10]\n",
      "\n",
      "Validation results:\n",
      "U^T M U - I error: 3.38e-14\n",
      "[[-7.02430439e-04 -1.75535369e-04  8.86918815e-04  8.14791895e-04\n",
      "  -9.15717479e-04]\n",
      " [-3.27096897e-04  1.03954332e-04  1.81791723e-05 -1.55183811e-04\n",
      "  -3.78569059e-04]\n",
      " [ 1.03692128e-03  1.15496755e-04  1.76307610e-04 -5.24378810e-04\n",
      "   5.33820856e-04]\n",
      " [ 5.67070857e-04  5.85716513e-05  5.24557102e-05 -8.01834457e-04\n",
      "   1.29320896e-03]\n",
      " [ 2.43542480e-04  2.41388583e-04  9.45599949e-05  4.60130264e-04\n",
      "  -3.88058158e-05]]\n",
      "[[-0.00331764  0.          0.          0.          0.        ]\n",
      " [ 0.         -0.00199293  0.          0.          0.        ]\n",
      " [ 0.          0.         -0.00034718  0.          0.        ]\n",
      " [ 0.          0.          0.          0.00113931  0.        ]\n",
      " [ 0.          0.          0.          0.          0.00218135]]\n",
      "U^T K U - diag(S) error: 4.55e+03\n",
      "K * U - M * U * diag(S) error: 7.00e+01\n"
     ]
    },
    {
     "data": {
      "image/png": "[encoded data removed]",
      "text/plain": [
       "<Figure size 1000x600 with 1 Axes>"
      ]
     },
     "metadata": {},
     "output_type": "display_data"
    }
   ],
   "source": [
    "\n",
    "# load K and M from binary files and call scipy to solve the generalized eigenvalue problem\n",
    "\n",
    "import numpy as np\n",
    "from scipy import sparse\n",
    "from scipy.sparse.linalg import eigsh\n",
    "import matplotlib.pyplot as plt\n",
    "import os\n",
    "\n",
    "def load_sparse_matrix(filename):\n",
    "    \"\"\"Load a sparse matrix saved in CSC format from binary file.\"\"\"\n",
    "    with open(filename, 'rb') as f:\n",
    "        # Read dimensions\n",
    "        rows = np.fromfile(f, dtype=np.int32, count=1)[0]\n",
    "        cols = np.fromfile(f, dtype=np.int32, count=1)[0]\n",
    "        nnz = np.fromfile(f, dtype=np.int32, count=1)[0]\n",
    "        \n",
    "        # Read the outer index pointers\n",
    "        outer_indices = np.fromfile(f, dtype=np.int32, count=cols + 1)\n",
    "        \n",
    "        # Read the inner indices\n",
    "        inner_indices = np.fromfile(f, dtype=np.int32, count=nnz)\n",
    "        \n",
    "        # Read the values\n",
    "        values = np.fromfile(f, dtype=np.float64, count=nnz)\n",
    "        \n",
    "        # Construct the sparse matrix\n",
    "        return sparse.csc_matrix((values, inner_indices, outer_indices), shape=(rows, cols))\n",
    "\n",
    "def solve_generalized_eigenvalue_problem(K, M, num_modes=100, sigma=0.0):\n",
    "    \"\"\"Solve the generalized eigenvalue problem KU = MUS.\"\"\"\n",
    "    # Convert to CSR format for better performance with eigsh\n",
    "    K_csr = K.tocsr()\n",
    "    M_csr = M.tocsr()\n",
    "\n",
    "    mode_min_freq = 20.0\n",
    "    sigma = pow(2 * np.pi * mode_min_freq, 2)\n",
    "    \n",
    "    # Solve the generalized eigenvalue problem\n",
    "    # Using shift-invert mode for better performance with sigma=0\n",
    "    eigenvalues, eigenvectors = eigsh(\n",
    "        K_csr, \n",
    "        k=num_modes,\n",
    "        M=M_csr,\n",
    "        sigma=sigma,\n",
    "        which='LM',  # Largest Magnitude\n",
    "        mode='normal'  # Solve KU = MUS directly\n",
    "    )\n",
    "    \n",
    "    return eigenvalues, eigenvectors\n",
    "\n",
    "def validate_solution(K, M, eigenvalues, eigenvectors):\n",
    "    \"\"\"Validate the solution by checking orthogonality and eigenvalue equation.\"\"\"\n",
    "    # Check if U^T M U = I\n",
    "    UT_M_U = eigenvectors.T @ M @ eigenvectors\n",
    "    identity_error = np.linalg.norm(UT_M_U - np.eye(UT_M_U.shape[0]))\n",
    "    print(f\"U^T M U - I error: {identity_error:.2e}\")\n",
    "    \n",
    "    # Check if U^T K U = diag(S)\n",
    "    UT_K_U = eigenvectors.T @ K @ eigenvectors\n",
    "    diag_S = np.diag(eigenvalues)\n",
    "    print(UT_K_U[:5, :5])\n",
    "    print(diag_S[:5, :5])\n",
    "    eigenvalue_error = np.linalg.norm(UT_K_U - diag_S)\n",
    "    print(f\"U^T K U - diag(S) error: {eigenvalue_error:.2e}\")\n",
    "    \n",
    "    # Check if K * U = M * U * diag(S)\n",
    "    K_U = K @ eigenvectors\n",
    "    M_U_diag_S = M @ eigenvectors @ diag_S\n",
    "    equation_error = np.linalg.norm(K_U - M_U_diag_S)\n",
    "    print(f\"K * U - M * U * diag(S) error: {equation_error:.2e}\")\n",
    "    \n",
    "    return identity_error, eigenvalue_error, equation_error\n",
    "\n",
    "def plot_eigenvalues(eigenvalues, title=\"Eigenvalues\"):\n",
    "    \"\"\"Plot the eigenvalues.\"\"\"\n",
    "    plt.figure(figsize=(10, 6))\n",
    "    plt.plot(eigenvalues, 'b.', label='Eigenvalues')\n",
    "    plt.xlabel('Mode index')\n",
    "    plt.ylabel('Eigenvalue')\n",
    "    plt.title(title)\n",
    "    plt.grid(True)\n",
    "    plt.legend()\n",
    "    plt.show()\n",
    "\n",
    "# Get the cache directory from environment or use default\n",
    "# cache_dir = os.getenv('CACHE_DIR', '../cache')\n",
    "cache_dir = \"C:/Users/Zhehao/Research/SimpleModal/asset/coin/cache\"\n",
    "\n",
    "# Load matrices for each object in the cache directory\n",
    "for filename in os.listdir(cache_dir):\n",
    "    if filename.endswith('_K.bin'):\n",
    "        obj_name = filename[:-6]  # Remove '_K.bin'\n",
    "        K_file = os.path.join(cache_dir, filename)\n",
    "        M_file = os.path.join(cache_dir, f\"{obj_name}_M.bin\")\n",
    "        \n",
    "        if not os.path.exists(M_file):\n",
    "            print(f\"Warning: No matching M file for {obj_name}\")\n",
    "            continue\n",
    "            \n",
    "        print(f\"\\nProcessing {obj_name}...\")\n",
    "        \n",
    "        # Load matrices\n",
    "        K = load_sparse_matrix(K_file)\n",
    "        M = load_sparse_matrix(M_file)\n",
    "        \n",
    "        print(f\"Matrix dimensions: K {K.shape}, M {M.shape}\")\n",
    "        print(f\"Number of non-zero elements: K {K.nnz}, M {M.nnz}\")\n",
    "        \n",
    "        # Solve eigenvalue problem\n",
    "        num_modes = 100  # Same as in C++\n",
    "        eigenvalues, eigenvectors = solve_generalized_eigenvalue_problem(K, M, num_modes)\n",
    "        \n",
    "        # Print first few eigenvalues\n",
    "        print(\"\\nFirst 10 eigenvalues:\")\n",
    "        print(eigenvalues[:10])\n",
    "        \n",
    "        # Validate solution\n",
    "        print(\"\\nValidation results:\")\n",
    "        validate_solution(K, M, eigenvalues, eigenvectors)\n",
    "        \n",
    "        # Plot eigenvalues\n",
    "        plot_eigenvalues(np.log10(eigenvalues + 1), f\"Eigenvalues for {obj_name}\")\n",
    "        \n",
    "        # Save results for comparison with C++\n",
    "        np.save(os.path.join(cache_dir, f\"{obj_name}_eigenvalues_python.npy\"), eigenvalues)\n",
    "        np.save(os.path.join(cache_dir, f\"{obj_name}_eigenvectors_python.npy\"), eigenvectors)\n",
    "\n",
    "\n"
   ]
  },
  {
   "cell_type": "markdown",
   "metadata": {},
   "source": [
    "### Mass of the object "
   ]
  },
  {
   "cell_type": "code",
   "execution_count": 2,
   "metadata": {},
   "outputs": [
    {
     "data": {
      "text/plain": [
       "np.float64(0.007020701746543162)"
      ]
     },
     "execution_count": 2,
     "metadata": {},
     "output_type": "execute_result"
    }
   ],
   "source": [
    "(np.sum(M) / 3 )"
   ]
  }
 ],
 "metadata": {
  "kernelspec": {
   "display_name": "soundlab",
   "language": "python",
   "name": "python3"
  },
  "language_info": {
   "codemirror_mode": {
    "name": "ipython",
    "version": 3
   },
   "file_extension": ".py",
   "mimetype": "text/x-python",
   "name": "python",
   "nbconvert_exporter": "python",
   "pygments_lexer": "ipython3",
   "version": "3.13.5"
  }
 },
 "nbformat": 4,
 "nbformat_minor": 2
}
